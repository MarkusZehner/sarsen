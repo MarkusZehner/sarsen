{
 "cells": [
  {
   "cell_type": "markdown",
   "id": "4c89ab28-5a6d-427e-8e8e-d9315395e440",
   "metadata": {
    "tags": []
   },
   "source": [
    "# Profiling of terrain corrections"
   ]
  },
  {
   "cell_type": "markdown",
   "id": "48e9d992-7db0-4743-9439-4a1f0dc79f22",
   "metadata": {},
   "source": [
    "<hr style=\"border:2px solid blue\"> </hr>"
   ]
  },
  {
   "cell_type": "markdown",
   "id": "9ae38ff7",
   "metadata": {
    "tags": []
   },
   "source": [
    "### Install Dependencies and Import\n",
    "\n",
    "Additional dependecies: `sarsen`, `snakeviz`"
   ]
  },
  {
   "cell_type": "code",
   "execution_count": null,
   "id": "2560aeb0-36d8-44ef-bd03-4948deb2c90d",
   "metadata": {},
   "outputs": [],
   "source": [
    "!pip install -q sarsen snakeviz"
   ]
  },
  {
   "cell_type": "code",
   "execution_count": null,
   "id": "f95d095c-a5b6-40d2-a47c-1adc4e60d31b",
   "metadata": {},
   "outputs": [],
   "source": [
    "%load_ext snakeviz"
   ]
  },
  {
   "cell_type": "code",
   "execution_count": null,
   "id": "c949e993-be36-42c6-87f0-773093a464a0",
   "metadata": {},
   "outputs": [],
   "source": [
    "import os\n",
    "import tempfile\n",
    "\n",
    "import adlfs\n",
    "import planetary_computer\n",
    "import pystac_client\n",
    "\n",
    "# enable the `.rio` accessor\n",
    "import rioxarray  # noqa: F401\n",
    "import stackstac\n",
    "from sarsen.apps import terrain_correction"
   ]
  },
  {
   "cell_type": "markdown",
   "id": "23a700d1-2b4a-45ba-8a64-bd154f775b76",
   "metadata": {},
   "source": [
    "### Processing definitions"
   ]
  },
  {
   "cell_type": "code",
   "execution_count": null,
   "id": "2cfc92e0-91ee-47f6-8329-f002eb6409b1",
   "metadata": {},
   "outputs": [],
   "source": [
    "# create a temporary directory where to store downloaded data\n",
    "tmp_dir = tempfile.gettempdir()\n",
    "\n",
    "# DEM path\n",
    "dem_path = os.path.join(tmp_dir, \"South-of-Redmond-10m.tif\")\n",
    "\n",
    "# path to Sentinel-1 input product in the Planetary Computer\n",
    "product_folder = \"GRD/2021/12/17/IW/DV/S1B_IW_GRDH_1SDV_20211217T141304_20211217T141329_030066_039705_9048\"  # noqa: E501\n",
    "\n",
    "# band to be processed\n",
    "measurement_group = \"IW/VV\"\n",
    "\n",
    "tmp_dir"
   ]
  },
  {
   "cell_type": "markdown",
   "id": "868bd066-4122-4f5c-932e-8b607388ae1f",
   "metadata": {},
   "source": [
    "#### Area of interest definition: South-of-Redmond (Seattle, US)"
   ]
  },
  {
   "cell_type": "code",
   "execution_count": null,
   "id": "51cfd0f3-1be4-493a-a419-b56425c139eb",
   "metadata": {},
   "outputs": [],
   "source": [
    "lon, lat = [-121.95, 47.04]\n",
    "buffer = 0.2\n",
    "bbox = [lon - buffer, lat - buffer, lon + buffer, lat + buffer]"
   ]
  },
  {
   "cell_type": "markdown",
   "id": "211d1633-cd35-4e1c-8b71-bc6432e7495c",
   "metadata": {},
   "source": [
    "#### DEMs discovery"
   ]
  },
  {
   "cell_type": "code",
   "execution_count": null,
   "id": "8a8883ba-e53f-41bf-95a3-25219c1799e6",
   "metadata": {},
   "outputs": [],
   "source": [
    "catalog = pystac_client.Client.open(\n",
    "    \"https://planetarycomputer.microsoft.com/api/stac/v1\"\n",
    ")\n",
    "search = catalog.search(collections=\"3dep-seamless\", bbox=bbox)\n",
    "items = list(search.get_items())"
   ]
  },
  {
   "cell_type": "code",
   "execution_count": null,
   "id": "e7021623-ba3f-407e-8c96-f09824b2adbe",
   "metadata": {},
   "outputs": [],
   "source": [
    "# select DEMs with resolution 10 meters\n",
    "items_high_res = [\n",
    "    planetary_computer.sign(item).to_dict()\n",
    "    for item in items\n",
    "    if item.properties[\"gsd\"] == 10\n",
    "]\n",
    "\n",
    "dem_raster_all = stackstac.stack(items_high_res, bounds=bbox).squeeze()\n",
    "dem_raster_all"
   ]
  },
  {
   "cell_type": "markdown",
   "id": "55b7fc2e-c6ba-49d5-a04d-a6b61d7a89ab",
   "metadata": {},
   "source": [
    "#### DEMs average along the time dimension"
   ]
  },
  {
   "cell_type": "code",
   "execution_count": null,
   "id": "8bdf169d-28dc-41aa-a34b-29e3aa462e51",
   "metadata": {},
   "outputs": [],
   "source": [
    "dem_raster_geo = dem_raster_all.compute()\n",
    "if \"time\" in dem_raster_geo.dims:\n",
    "    dem_raster_geo = dem_raster_geo.mean(\"time\")\n",
    "_ = dem_raster_geo.rio.set_crs(dem_raster_all.rio.crs)"
   ]
  },
  {
   "cell_type": "markdown",
   "id": "b400b893-0441-4709-88d0-bf95ff4eb00b",
   "metadata": {},
   "source": [
    "#### Convert the DEM in UTM coordinates"
   ]
  },
  {
   "cell_type": "code",
   "execution_count": null,
   "id": "dddaccb5-2cee-4c65-880a-c33f7f3a4d1a",
   "metadata": {},
   "outputs": [],
   "source": [
    "# find the UTM zone and project in UTM\n",
    "t_srs = dem_raster_geo.rio.estimate_utm_crs()\n",
    "dem_raster = dem_raster_geo.rio.reproject(t_srs, resolution=(5, 5))\n",
    "\n",
    "# crop DEM to our area of interest and save it\n",
    "dem_corners = dict(x=slice(565000, 594000), y=slice(5220000, 5190000))\n",
    "\n",
    "\n",
    "dem_raster = dem_raster.sel(**dem_corners)\n",
    "dem_raster.rio.to_raster(dem_path)\n",
    "dem_raster"
   ]
  },
  {
   "cell_type": "markdown",
   "id": "00e88577-3a05-4865-ae1a-e80fd2ae8f8a",
   "metadata": {},
   "source": [
    "### Define GRD parameters"
   ]
  },
  {
   "cell_type": "code",
   "execution_count": null,
   "id": "49dc13e7-f72d-4c1c-9c48-e5f466a394c3",
   "metadata": {},
   "outputs": [],
   "source": [
    "grd_account_name = \"sentinel1euwest\"\n",
    "grd_storage_container = \"s1-grd\"\n",
    "grd_product_folder = f\"{grd_storage_container}/{product_folder}\"\n",
    "grd_local_path = os.path.join(tmp_dir, product_folder)"
   ]
  },
  {
   "cell_type": "markdown",
   "id": "116c7c85-a65e-4e74-a8a8-f0bdd952c198",
   "metadata": {},
   "source": [
    "### Retrieve Sentinel-1 GRD"
   ]
  },
  {
   "cell_type": "code",
   "execution_count": null,
   "id": "976ee57b-f766-4102-b24e-55f1b787a3b5",
   "metadata": {},
   "outputs": [],
   "source": [
    "grd_token = planetary_computer.sas.get_token(\n",
    "    grd_account_name, grd_storage_container\n",
    ").token\n",
    "grd_fs = adlfs.AzureBlobFileSystem(grd_account_name, credential=grd_token)\n",
    "grd_fs.ls(f\"{grd_product_folder}/manifest.safe\")"
   ]
  },
  {
   "cell_type": "code",
   "execution_count": null,
   "id": "6ebd58bb-5584-4a7d-aeef-ffea00290b9a",
   "metadata": {},
   "outputs": [],
   "source": [
    "grd_fs.get(grd_product_folder, grd_local_path, recursive=True)\n",
    "!ls -d {grd_local_path}"
   ]
  },
  {
   "cell_type": "markdown",
   "id": "9371be6b-5b88-4eb5-91b2-dfcb4ac23030",
   "metadata": {
    "tags": []
   },
   "source": [
    "### Profiling\n",
    "\n",
    "#### GTC"
   ]
  },
  {
   "cell_type": "code",
   "execution_count": null,
   "id": "9f44371e-dedb-4a06-b16e-c4d748216ace",
   "metadata": {},
   "outputs": [],
   "source": [
    "%%snakeviz\n",
    "terrain_correction(\n",
    "    product_urlpath=grd_local_path,\n",
    "    measurement_group=measurement_group,\n",
    "    dem_urlpath=dem_path,\n",
    "    output_urlpath=os.path.join(\n",
    "        tmp_dir, os.path.basename(product_folder) + \".10m.GTC.tif\"\n",
    "    ),\n",
    ")"
   ]
  },
  {
   "cell_type": "markdown",
   "id": "7c9cd051-776b-41dd-a03e-341f3a3271b1",
   "metadata": {},
   "source": [
    "#### RTC"
   ]
  },
  {
   "cell_type": "markdown",
   "id": "ca791864-4735-4350-b032-2f8eb4406a57",
   "metadata": {},
   "source": [
    "##### Nearest neighbour"
   ]
  },
  {
   "cell_type": "code",
   "execution_count": null,
   "id": "c3e5107e-ecda-4bec-9429-f143425ea117",
   "metadata": {},
   "outputs": [],
   "source": [
    "%%snakeviz\n",
    "terrain_correction(\n",
    "    grd_local_path,\n",
    "    measurement_group=measurement_group,\n",
    "    dem_urlpath=dem_path,\n",
    "    correct_radiometry=\"gamma_nearest\",\n",
    "    output_urlpath=os.path.join(\n",
    "        tmp_dir, os.path.basename(product_folder) + \".10m.RTC.tif\"\n",
    "    ),\n",
    "    grouping_area_factor=(3, 3),\n",
    ")"
   ]
  },
  {
   "cell_type": "markdown",
   "id": "335db191-24ac-484b-8b5e-50577381972f",
   "metadata": {},
   "source": [
    "##### Bilinear"
   ]
  },
  {
   "cell_type": "code",
   "execution_count": null,
   "id": "bc90978d-3c8b-4c9e-b77b-781fd04e6f20",
   "metadata": {},
   "outputs": [],
   "source": [
    "%%snakeviz\n",
    "terrain_correction(\n",
    "    grd_local_path,\n",
    "    measurement_group=measurement_group,\n",
    "    dem_urlpath=dem_path,\n",
    "    correct_radiometry=\"gamma_bilinear\",\n",
    "    output_urlpath=os.path.join(\n",
    "        tmp_dir, os.path.basename(product_folder) + \".10m.RTC.tif\"\n",
    "    ),\n",
    "    grouping_area_factor=(3, 3),\n",
    ")"
   ]
  }
 ],
 "metadata": {
  "kernelspec": {
   "display_name": "Python 3 (ipykernel)",
   "language": "python",
   "name": "python3"
  },
  "language_info": {
   "codemirror_mode": {
    "name": "ipython",
    "version": 3
   },
   "file_extension": ".py",
   "mimetype": "text/x-python",
   "name": "python",
   "nbconvert_exporter": "python",
   "pygments_lexer": "ipython3",
   "version": "3.8.12"
  }
 },
 "nbformat": 4,
 "nbformat_minor": 5
}
