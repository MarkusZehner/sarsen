{
 "cells": [
  {
   "cell_type": "code",
   "execution_count": null,
   "id": "665d565c",
   "metadata": {},
   "outputs": [],
   "source": [
    "%load_ext autoreload\n",
    "%autoreload 2\n",
    "\n",
    "%matplotlib inline\n",
    "%config InlineBackend.figure_format = 'retina'\n",
    "\n",
    "import matplotlib.pyplot as plt\n",
    "\n",
    "plt.rcParams[\"figure.figsize\"] = (10, 7)\n",
    "plt.rcParams[\"font.size\"] = 12"
   ]
  },
  {
   "cell_type": "code",
   "execution_count": null,
   "id": "777f61c9",
   "metadata": {},
   "outputs": [],
   "source": [
    "import os.path\n",
    "\n",
    "import numpy as np\n",
    "import xarray as xr\n",
    "import xarray_sentinel\n",
    "\n",
    "from sarsen import apps, geocoding, scene"
   ]
  },
  {
   "cell_type": "markdown",
   "id": "088f8ea7",
   "metadata": {},
   "source": [
    "## South of Redmond"
   ]
  },
  {
   "cell_type": "code",
   "execution_count": null,
   "id": "0b7a3d72",
   "metadata": {},
   "outputs": [],
   "source": [
    "product_urlpath = \"GRD/2021/12/17/IW/DV/S1B_IW_GRDH_1SDV_20211217T141304_20211217T141329_030066_039705_9048\"\n",
    "measurement_group = \"IW/VV\"\n",
    "dem_urlpath = \"South-of-Redmond-10m.tif\"\n",
    "orbit_group = f\"{measurement_group}/orbit\"\n",
    "calibration_group = f\"{measurement_group}/calibration\"\n",
    "output_urlpath = os.path.basename(product_urlpath) + \"-GTC.tif\"\n",
    "interp_method = \"nearest\"\n",
    "multilook = None\n",
    "kwargs = {\n",
    "    \"chunks\": 4096,\n",
    "    \"override_product_files\": \"{dirname}/{prefix}{swath}-{polarization}{ext}\",\n",
    "}"
   ]
  },
  {
   "cell_type": "code",
   "execution_count": null,
   "id": "bcf0f0e9",
   "metadata": {},
   "outputs": [],
   "source": [
    "measurement_ds = xr.open_dataset(product_urlpath, engine=\"sentinel-1\", group=measurement_group, **kwargs)  # type: ignore\n",
    "measurement = measurement_ds.measurement\n",
    "\n",
    "orbit_ecef = xr.open_dataset(product_urlpath, engine=\"sentinel-1\", group=orbit_group, **kwargs)  # type: ignore\n",
    "position_ecef = orbit_ecef.position\n",
    "calibration = xr.open_dataset(product_urlpath, engine=\"sentinel-1\", group=calibration_group, **kwargs)  # type: ignore\n",
    "beta_nought_lut = calibration.betaNought\n",
    "beta_nought = xarray_sentinel.calibrate_intensity(measurement, beta_nought_lut)\n",
    "\n",
    "beta_nought"
   ]
  },
  {
   "cell_type": "code",
   "execution_count": null,
   "id": "27e431f0",
   "metadata": {},
   "outputs": [],
   "source": [
    "%%time\n",
    "dem_raster = scene.open_dem_raster(dem_urlpath)\n",
    "dem_ecef = scene.convert_to_dem_ecef(dem_raster)\n",
    "dem_ecef"
   ]
  },
  {
   "cell_type": "code",
   "execution_count": null,
   "id": "3fba0ed9",
   "metadata": {
    "scrolled": false
   },
   "outputs": [],
   "source": [
    "_ = dem_raster.plot()"
   ]
  },
  {
   "cell_type": "code",
   "execution_count": null,
   "id": "8ce67266",
   "metadata": {},
   "outputs": [],
   "source": [
    "%%time\n",
    "acquisition = apps.simulate_acquisition(position_ecef, dem_ecef)\n",
    "acquisition"
   ]
  },
  {
   "cell_type": "code",
   "execution_count": null,
   "id": "0ddc3a56",
   "metadata": {},
   "outputs": [],
   "source": [
    "coordinate_conversion = xr.open_dataset(\n",
    "    product_urlpath,\n",
    "    engine=\"sentinel-1\",\n",
    "    group=f\"{measurement_group}/coordinate_conversion\",\n",
    "    **kwargs,\n",
    ")  # type: ignore\n",
    "ground_range = xarray_sentinel.slant_range_time_to_ground_range(\n",
    "    acquisition.azimuth_time,\n",
    "    acquisition.slant_range_time,\n",
    "    coordinate_conversion,\n",
    ")\n",
    "interp_kwargs = {\"ground_range\": ground_range}\n",
    "slant_range_time0 = coordinate_conversion.slant_range_time.values[0]\n",
    "\n",
    "slant_range_time0"
   ]
  },
  {
   "cell_type": "code",
   "execution_count": null,
   "id": "5e615728",
   "metadata": {},
   "outputs": [],
   "source": [
    "%%time\n",
    "\n",
    "gtc = apps.interpolate_measurement(\n",
    "    beta_nought,\n",
    "    multilook=multilook,\n",
    "    azimuth_time=acquisition.azimuth_time,\n",
    "    interp_method=interp_method,\n",
    "    **interp_kwargs,\n",
    ").compute()\n",
    "\n",
    "gtc"
   ]
  },
  {
   "cell_type": "code",
   "execution_count": null,
   "id": "cc3e7ea8",
   "metadata": {},
   "outputs": [],
   "source": [
    "gtc.rio.set_crs(dem_raster.rio.crs)\n",
    "gtc.rio.to_raster(\n",
    "    output_urlpath,\n",
    "    dtype=np.float32,\n",
    "    tiled=True,\n",
    "    blockxsize=512,\n",
    "    blockysize=512,\n",
    "    compress=\"ZSTD\",\n",
    "    num_threads=\"ALL_CPUS\",\n",
    ")"
   ]
  },
  {
   "cell_type": "code",
   "execution_count": null,
   "id": "22e2e1d6",
   "metadata": {},
   "outputs": [],
   "source": [
    "_ = gtc.plot(vmax=0.5)"
   ]
  },
  {
   "cell_type": "code",
   "execution_count": null,
   "id": "8ad783a7",
   "metadata": {},
   "outputs": [],
   "source": []
  },
  {
   "cell_type": "code",
   "execution_count": null,
   "id": "ed33d732",
   "metadata": {},
   "outputs": [],
   "source": [
    "dem_normal = scene.compute_diff_normal(dem_ecef)\n",
    "cos_incidence = xr.dot(dem_normal, -acquisition.dem_direction, dims=\"axis\").compute()\n",
    "cos_incidence"
   ]
  },
  {
   "cell_type": "code",
   "execution_count": null,
   "id": "a5239ccc",
   "metadata": {},
   "outputs": [],
   "source": [
    "%%time\n",
    "\n",
    "azimuth_time0 = measurement.azimuth_time.values[0]\n",
    "azimuth_time_interval = measurement.attrs[\"azimuth_time_interval\"]\n",
    "slant_range_time_interval = measurement.attrs[\"slant_range_time_interval\"]\n",
    "\n",
    "# compute dem image coordinates\n",
    "slant_range_index = (\n",
    "    acquisition.slant_range_time - slant_range_time0\n",
    ") / slant_range_time_interval / 5\n",
    "\n",
    "azimuth_index = (\n",
    "    (acquisition.azimuth_time - azimuth_time0) / geocoding.ONE_SECOND\n",
    ") / azimuth_time_interval\n",
    "\n",
    "slant_range_index = np.round(slant_range_index).astype(int)\n",
    "azimuth_index = np.round(azimuth_index).astype(int)\n",
    "\n",
    "slant_range_index"
   ]
  },
  {
   "cell_type": "code",
   "execution_count": null,
   "id": "aabb0651",
   "metadata": {},
   "outputs": [],
   "source": [
    "%%time\n",
    "\n",
    "geocoded = np.maximum(cos_incidence, 0).assign_coords(\n",
    "    slant_range_index=slant_range_index, azimuth_index=azimuth_index\n",
    ")\n",
    "\n",
    "stacked_geocoded = (\n",
    "    geocoded.stack(z=(\"y\", \"x\"))\n",
    "    .reset_index(\"z\")\n",
    "    .set_index(z=(\"azimuth_index\", \"slant_range_index\"))\n",
    ")\n",
    "\n",
    "grouped = stacked_geocoded.groupby(\"z\")\n",
    "\n",
    "grouped"
   ]
  },
  {
   "cell_type": "code",
   "execution_count": null,
   "id": "94590616",
   "metadata": {},
   "outputs": [],
   "source": [
    "%%time\n",
    "\n",
    "flat_count = grouped.sum()\n",
    "flat_count"
   ]
  },
  {
   "cell_type": "code",
   "execution_count": null,
   "id": "418fca27",
   "metadata": {},
   "outputs": [],
   "source": [
    "%%time\n",
    "\n",
    "flat_count_smooth = (\n",
    "    flat_count.unstack(\"z\")\n",
    "    .fillna(0)\n",
    "    .rolling(z_level_0=3, z_level_1=3, center=True)\n",
    "    .mean()\n",
    "    .stack(z=(\"z_level_0\", \"z_level_1\"))\n",
    ")\n",
    "\n",
    "flat_count_smooth"
   ]
  },
  {
   "cell_type": "code",
   "execution_count": null,
   "id": "7deab26f",
   "metadata": {},
   "outputs": [],
   "source": [
    "%%time\n",
    "\n",
    "stacked_count = flat_count_smooth.sel(\n",
    "    z=stacked_geocoded.indexes[\"z\"]\n",
    ").assign_coords(stacked_geocoded.coords)\n",
    "\n",
    "weights_cos = stacked_count.set_index(z=(\"y\", \"x\")).unstack(\"z\")"
   ]
  },
  {
   "cell_type": "code",
   "execution_count": null,
   "id": "c295f2c1",
   "metadata": {},
   "outputs": [],
   "source": [
    "_ = weights_cos.plot(vmax=2)"
   ]
  },
  {
   "cell_type": "code",
   "execution_count": null,
   "id": "efcc5c38",
   "metadata": {},
   "outputs": [],
   "source": [
    "rtc_cos = gtc / weights_cos\n",
    "rtc_cos"
   ]
  },
  {
   "cell_type": "code",
   "execution_count": null,
   "id": "23cc379e",
   "metadata": {},
   "outputs": [],
   "source": [
    "rtc_cos.rio.set_crs(dem_raster.rio.crs)\n",
    "rtc_cos.rio.to_raster(\n",
    "    output_urlpath.replace(\"GTC\", \"RTC-cos\"),\n",
    "    dtype=np.float32,\n",
    "    tiled=True,\n",
    "    blockxsize=512,\n",
    "    blockysize=512,\n",
    "    compress=\"ZSTD\",\n",
    "    num_threads=\"ALL_CPUS\",\n",
    ")"
   ]
  },
  {
   "cell_type": "code",
   "execution_count": null,
   "id": "43b8e17e",
   "metadata": {},
   "outputs": [],
   "source": [
    "_ = rtc_cos.plot(vmax=0.5)"
   ]
  },
  {
   "cell_type": "code",
   "execution_count": null,
   "id": "c3c9315b",
   "metadata": {},
   "outputs": [],
   "source": []
  },
  {
   "cell_type": "code",
   "execution_count": null,
   "id": "754391a8",
   "metadata": {},
   "outputs": [],
   "source": []
  },
  {
   "cell_type": "code",
   "execution_count": null,
   "id": "92699ba1",
   "metadata": {},
   "outputs": [],
   "source": [
    "%%time\n",
    "\n",
    "weights_gamma = geocoding.gamma_weights(\n",
    "    dem_ecef.compute(),\n",
    "    acquisition.compute(),\n",
    "    slant_range_time0=slant_range_time0,\n",
    "    azimuth_time0=measurement.azimuth_time.values[0],\n",
    "    azimuth_time_interval=measurement.attrs[\"azimuth_time_interval\"],\n",
    "    slant_range_time_interval=measurement.attrs[\"slant_range_time_interval\"],\n",
    "    pixel_spacing_azimuth=measurement.attrs[\"sar:pixel_spacing_azimuth\"],\n",
    "    pixel_spacing_range=measurement.attrs[\"sar:pixel_spacing_range\"],\n",
    ")\n",
    "\n",
    "weights_gamma"
   ]
  },
  {
   "cell_type": "code",
   "execution_count": null,
   "id": "af710ae8",
   "metadata": {},
   "outputs": [],
   "source": [
    "_ = weights_gamma.plot(vmax=1, x=\"x\")"
   ]
  },
  {
   "cell_type": "code",
   "execution_count": null,
   "id": "8ed9b9ed",
   "metadata": {},
   "outputs": [],
   "source": [
    "rtc_gamma = gtc / weights_gamma ** 2\n",
    "rtc_gamma"
   ]
  },
  {
   "cell_type": "code",
   "execution_count": null,
   "id": "713ae83b",
   "metadata": {},
   "outputs": [],
   "source": [
    "rtc_gamma.rio.set_crs(dem_raster.rio.crs)\n",
    "rtc_gamma.rio.to_raster(\n",
    "    output_urlpath.replace(\"GTC\", \"RTC-gamma2\"),\n",
    "    dtype=np.float32,\n",
    "    tiled=True,\n",
    "    blockxsize=512,\n",
    "    blockysize=512,\n",
    "    compress=\"ZSTD\",\n",
    "    num_threads=\"ALL_CPUS\",\n",
    ")"
   ]
  },
  {
   "cell_type": "code",
   "execution_count": null,
   "id": "37e1eace",
   "metadata": {},
   "outputs": [],
   "source": [
    "_ = rtc_gamma.plot(vmax=1)"
   ]
  },
  {
   "cell_type": "code",
   "execution_count": null,
   "id": "4e1fe7e9",
   "metadata": {},
   "outputs": [],
   "source": []
  }
 ],
 "metadata": {
  "kernelspec": {
   "display_name": "Python 3",
   "language": "python",
   "name": "python3"
  },
  "language_info": {
   "codemirror_mode": {
    "name": "ipython",
    "version": 3
   },
   "file_extension": ".py",
   "mimetype": "text/x-python",
   "name": "python",
   "nbconvert_exporter": "python",
   "pygments_lexer": "ipython3",
   "version": "3.9.10"
  }
 },
 "nbformat": 4,
 "nbformat_minor": 5
}
