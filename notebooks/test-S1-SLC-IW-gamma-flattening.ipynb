{
 "cells": [
  {
   "cell_type": "code",
   "execution_count": null,
   "id": "7dfaec41",
   "metadata": {},
   "outputs": [],
   "source": [
    "%load_ext autoreload\n",
    "%autoreload 2\n",
    "\n",
    "%matplotlib inline\n",
    "%config InlineBackend.figure_format = 'retina'\n",
    "\n",
    "import matplotlib.pyplot as plt\n",
    "\n",
    "plt.rcParams[\"figure.figsize\"] = (10, 7)\n",
    "plt.rcParams[\"font.size\"] = 12"
   ]
  },
  {
   "cell_type": "code",
   "execution_count": null,
   "id": "c5812733",
   "metadata": {},
   "outputs": [],
   "source": [
    "import os\n",
    "\n",
    "import numpy as np\n",
    "import rioxarray\n",
    "import xarray as xr\n",
    "import xarray_sentinel\n",
    "\n",
    "from sarsen import apps, geocoding, orbit, scene"
   ]
  },
  {
   "cell_type": "raw",
   "id": "4487eea8",
   "metadata": {},
   "source": [
    "# product definition \n",
    "product_path = (\n",
    "    \"data/S1A_IW_SLC__1SDV_20211223T170557_20211223T170624_041139_04E360_B8E2.SAFE\"\n",
    ")\n",
    "dem_urlpath_3m = \"data/Gran-Sasso-3m-DEM-small.tif\"\n",
    "measurement_group = \"IW3/VV\"\n",
    "dem = scene.open_dem_raster(dem_urlpath_3m)\n"
   ]
  },
  {
   "cell_type": "code",
   "execution_count": null,
   "id": "c4858def",
   "metadata": {
    "scrolled": false
   },
   "outputs": [],
   "source": [
    "# product definition \n",
    "product_folder = (\n",
    "    \"data/S1A_IW_SLC__1SDV_20211223T170557_20211223T170624_041139_04E360_B8E2.SAFE\"\n",
    ")\n",
    "dem_urlpath_10 = \"data/Gran-Sasso-10m-DEM.tif\"\n",
    "measurement_group = \"IW3/VV\"\n",
    "dem_10 = scene.open_dem_raster(dem_urlpath_10)"
   ]
  },
  {
   "cell_type": "code",
   "execution_count": null,
   "id": "4b611e83",
   "metadata": {},
   "outputs": [],
   "source": [
    "dem_10.plot();"
   ]
  },
  {
   "cell_type": "markdown",
   "id": "006ffa2f",
   "metadata": {},
   "source": [
    "### GTC"
   ]
  },
  {
   "cell_type": "code",
   "execution_count": null,
   "id": "62710634",
   "metadata": {},
   "outputs": [],
   "source": [
    "gtc_path = os.path.basename(product_folder) + \".10m.GTC.tif\"\n",
    "apps.backward_geocode_sentinel1(\n",
    "    product_folder, \n",
    "    measurement_group, \n",
    "    dem_urlpath_10, \n",
    "    output_urlpath=gtc_path, \n",
    ")\n",
    "gtc = xr.open_dataarray(gtc_path, cache=False).drop(\"band\");"
   ]
  },
  {
   "cell_type": "code",
   "execution_count": null,
   "id": "2830782f",
   "metadata": {},
   "outputs": [],
   "source": [
    "gtc.plot(vmax=0.5);"
   ]
  },
  {
   "cell_type": "markdown",
   "id": "6b7ec742",
   "metadata": {},
   "source": [
    "### RCT"
   ]
  },
  {
   "cell_type": "code",
   "execution_count": null,
   "id": "3d8cafe4",
   "metadata": {},
   "outputs": [],
   "source": [
    "rtc_gamma_10m_path = os.path.basename(product_folder) + \".10m.RTC.gamma.tif\"\n",
    "apps.backward_geocode_sentinel1(\n",
    "    product_folder, \n",
    "    measurement_group, \n",
    "    dem_urlpath_10, \n",
    "    interp_method=\"nearest\",\n",
    "    correct_radiometry=\"gamma\",\n",
    "    output_urlpath=rtc_gamma_10m_path, \n",
    "    grouping_area_factor=(3, 13),\n",
    ")\n",
    "rtc_gamma_10m  = rioxarray.open_rasterio(rtc_gamma_10m_path, cache=False, chunks=-1)"
   ]
  },
  {
   "cell_type": "code",
   "execution_count": null,
   "id": "1c03900c",
   "metadata": {},
   "outputs": [],
   "source": [
    "rtc_gamma_10m.plot(vmax=0.0005);"
   ]
  },
  {
   "cell_type": "markdown",
   "id": "21eb6d65",
   "metadata": {},
   "source": [
    "### Comparison GTC RTC"
   ]
  },
  {
   "cell_type": "code",
   "execution_count": null,
   "id": "67d4fe8e",
   "metadata": {},
   "outputs": [],
   "source": [
    "f, axes = plt.subplots(nrows=1, ncols=2, figsize=(30, 15))\n",
    "\n",
    "gtc.plot(ax=axes[0], vmax=0.5);\n",
    "axes[0].grid(c=\"red\")\n",
    "\n",
    "rtc_gamma_10m.plot(ax=axes[1], vmax=0.0005);\n",
    "axes[1].grid(c=\"red\")"
   ]
  },
  {
   "cell_type": "code",
   "execution_count": null,
   "id": "e505848e",
   "metadata": {},
   "outputs": [],
   "source": []
  }
 ],
 "metadata": {
  "kernelspec": {
   "display_name": "Python 3 (ipykernel)",
   "language": "python",
   "name": "python3"
  },
  "language_info": {
   "codemirror_mode": {
    "name": "ipython",
    "version": 3
   },
   "file_extension": ".py",
   "mimetype": "text/x-python",
   "name": "python",
   "nbconvert_exporter": "python",
   "pygments_lexer": "ipython3",
   "version": "3.10.2"
  }
 },
 "nbformat": 4,
 "nbformat_minor": 5
}
