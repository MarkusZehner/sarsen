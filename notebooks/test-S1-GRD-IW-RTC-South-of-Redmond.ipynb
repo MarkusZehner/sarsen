{
 "cells": [
  {
   "cell_type": "code",
   "execution_count": null,
   "id": "1391c47f-d76e-4840-8eed-d547b4784331",
   "metadata": {},
   "outputs": [],
   "source": [
    "%load_ext autoreload\n",
    "%autoreload 2\n",
    "\n",
    "%matplotlib inline\n",
    "%config InlineBackend.figure_format = 'retina'\n",
    "\n",
    "import matplotlib.pyplot as plt\n",
    "\n",
    "plt.rcParams[\"figure.figsize\"] = (10, 7)\n",
    "plt.rcParams[\"font.size\"] = 12"
   ]
  },
  {
   "cell_type": "markdown",
   "id": "4611867b-79d3-46f6-9c38-ac3b44a17ad7",
   "metadata": {},
   "source": [
    "## install dependencies"
   ]
  },
  {
   "cell_type": "code",
   "execution_count": null,
   "id": "f552f512-205d-4812-9fa4-5f1572edce12",
   "metadata": {},
   "outputs": [],
   "source": [
    "# !mamba install -c conda-forge -y proj-data sentinelsat xmlschema"
   ]
  },
  {
   "cell_type": "code",
   "execution_count": null,
   "id": "a757e10c-fb0c-403f-b5ee-9af96f06e2a3",
   "metadata": {},
   "outputs": [],
   "source": [
    "# !pip install elevation sarsen xarray-sentinel"
   ]
  },
  {
   "cell_type": "markdown",
   "id": "86970ee8",
   "metadata": {},
   "source": [
    "## processing definition"
   ]
  },
  {
   "cell_type": "code",
   "execution_count": null,
   "id": "dce0c439",
   "metadata": {},
   "outputs": [],
   "source": [
    "# dem_urlpath = \"South-of-Redmond-10m-small.tif\"\n",
    "dem_urlpath = \"South-of-Redmond-10m.tif\"\n",
    "\n",
    "# product_folder = \"GRD/2021/12/19/IW/DV/S1B_IW_GRDH_1SDV_20211219T020132_20211219T020157_030088_0397B7_70CF\"\n",
    "product_folder = \"GRD/2021/12/17/IW/DV/S1B_IW_GRDH_1SDV_20211217T141304_20211217T141329_030066_039705_9048\"\n",
    "measurement_group = \"IW/VV\""
   ]
  },
  {
   "cell_type": "markdown",
   "id": "19adb6a3-26a4-4fdb-862a-1f6aa4f2abf6",
   "metadata": {},
   "source": [
    "## download DEM"
   ]
  },
  {
   "cell_type": "code",
   "execution_count": null,
   "id": "d5c88e2f-e607-4d35-bdc1-1639b1708523",
   "metadata": {},
   "outputs": [],
   "source": [
    "import os\n",
    "\n",
    "import adlfs\n",
    "import numpy as np\n",
    "import planetary_computer\n",
    "import pystac_client\n",
    "import rioxarray  # enable the `.rio` accessor\n",
    "import stackstac\n",
    "import xarray as xr\n",
    "\n",
    "from sarsen import apps, scene"
   ]
  },
  {
   "cell_type": "code",
   "execution_count": null,
   "id": "d28fbaee-03ef-4233-b277-33ca2521571d",
   "metadata": {},
   "outputs": [],
   "source": [
    "seattle = [-121.96, 47.05]\n",
    "areas_of_interest = {\"type\": \"Point\", \"coordinates\": seattle}\n",
    "\n",
    "catalog = pystac_client.Client.open(\n",
    "    \"https://planetarycomputer.microsoft.com/api/stac/v1\"\n",
    ")\n",
    "threedep = catalog.get_child(id=\"3dep-seamless\")\n",
    "\n",
    "longitude, latitude = seattle\n",
    "buffer = 0.05\n",
    "bbox = [longitude - buffer, latitude - buffer, longitude + buffer, latitude + buffer]\n",
    "search = catalog.search(collections=\"3dep-seamless\", bbox=bbox)\n",
    "items = list(search.get_items())\n",
    "items"
   ]
  },
  {
   "cell_type": "code",
   "execution_count": null,
   "id": "34dc3fb6-390b-4233-8c8c-4a915b80f286",
   "metadata": {
    "scrolled": false
   },
   "outputs": [],
   "source": [
    "items_high_res = [\n",
    "    planetary_computer.sign(item).to_dict()\n",
    "    for item in items\n",
    "    if item.properties[\"gsd\"] == 10\n",
    "]\n",
    "\n",
    "dem_raster_all = stackstac.stack(items_high_res, bounds=bbox).squeeze()\n",
    "dem_raster_all"
   ]
  },
  {
   "cell_type": "code",
   "execution_count": null,
   "id": "b4ae3523",
   "metadata": {},
   "outputs": [],
   "source": [
    "# dem_raster = dem_raster_all.compute().mean(\"time\")\n",
    "# dem_raster.rio.set_crs(dem_raster_all.rio.crs)\n",
    "# dem_raster.rio.to_raster(dem_urlpath)"
   ]
  },
  {
   "cell_type": "code",
   "execution_count": null,
   "id": "9af9fb83",
   "metadata": {},
   "outputs": [],
   "source": [
    "dem_raster = scene.open_dem_raster(dem_urlpath)\n",
    "_ = dem_raster.plot()"
   ]
  },
  {
   "cell_type": "markdown",
   "id": "1a7a2326-e415-4dd3-9858-a31bff62591d",
   "metadata": {},
   "source": [
    "## download data"
   ]
  },
  {
   "cell_type": "code",
   "execution_count": null,
   "id": "cc8a3a4c",
   "metadata": {},
   "outputs": [],
   "source": [
    "import os\n",
    "\n",
    "\n",
    "def mirror_folder(fs, bucket, folder, exclude=\"vh\"):\n",
    "    for path, folders, files in fs.walk(f\"{bucket}/{folder}\"):\n",
    "        os.makedirs(path[len(bucket) + 1 :], exist_ok=True)\n",
    "        for f in files:\n",
    "            if exclude in f:\n",
    "                continue\n",
    "            file_path = os.path.join(path, f)\n",
    "            lfile_path = file_path[len(bucket) + 1 :]\n",
    "            if not os.path.isfile(lfile_path):\n",
    "                print(file_path)\n",
    "                fs.download(file_path, lfile_path + \"~\")\n",
    "                os.rename(lfile_path + \"~\", lfile_path)"
   ]
  },
  {
   "cell_type": "code",
   "execution_count": null,
   "id": "202c4372-15e8-4122-a28c-9d92c9b9a239",
   "metadata": {},
   "outputs": [],
   "source": [
    "grd_account_name = \"sentinel1euwest\"\n",
    "grd_bucket = \"s1-grd\"\n",
    "grd_token = planetary_computer.sas.get_token(grd_account_name, grd_bucket).token\n",
    "\n",
    "grd_product_folder = f\"{grd_bucket}/{product_folder}\"\n",
    "\n",
    "grd_fs = adlfs.AzureBlobFileSystem(grd_account_name, credential=grd_token)\n",
    "grd_fs.ls(grd_product_folder)"
   ]
  },
  {
   "cell_type": "code",
   "execution_count": null,
   "id": "14f7dd67-c60e-452c-b29b-fcd99f2233da",
   "metadata": {},
   "outputs": [],
   "source": []
  },
  {
   "cell_type": "code",
   "execution_count": null,
   "id": "5ab82726-e6ff-466e-b39d-f99abedf6072",
   "metadata": {},
   "outputs": [],
   "source": [
    "# mirror_folder(grd_fs, grd_bucket, product_folder)"
   ]
  },
  {
   "cell_type": "code",
   "execution_count": null,
   "id": "65d29ede-31ca-46cd-8f1d-33a7b1a6dc9e",
   "metadata": {
    "scrolled": false
   },
   "outputs": [],
   "source": [
    "ds = xr.open_dataset(\n",
    "    product_folder,\n",
    "    engine=\"sentinel-1\",\n",
    "    group=measurement_group,\n",
    "    # storage_options=storage_options,\n",
    "    override_product_files=\"{dirname}/{prefix}{swath}-{polarization}{ext}\",\n",
    "    chunks={\"slant_range_time\": 2048},\n",
    ")\n",
    "ds"
   ]
  },
  {
   "cell_type": "code",
   "execution_count": null,
   "id": "9366385e",
   "metadata": {},
   "outputs": [],
   "source": []
  },
  {
   "cell_type": "code",
   "execution_count": null,
   "id": "977cce1f",
   "metadata": {},
   "outputs": [],
   "source": [
    "rtc_account_name = \"sentinel1euwestrtc\"\n",
    "rtc_bucket = \"sentinel1-grd-rtc\"\n",
    "rtc_token = planetary_computer.sas.get_token(rtc_account_name, rtc_bucket).token\n",
    "\n",
    "rtc_product_folder = f\"{rtc_bucket}/{product_folder}\"\n",
    "\n",
    "rtc_fs = adlfs.AzureBlobFileSystem(rtc_account_name, credential=rtc_token)\n",
    "rtc_fs.ls(rtc_product_folder)"
   ]
  },
  {
   "cell_type": "code",
   "execution_count": null,
   "id": "d80d9b31",
   "metadata": {},
   "outputs": [],
   "source": [
    "# mirror_folder(rtc_fs, rtc_bucket, product_folder)"
   ]
  },
  {
   "cell_type": "code",
   "execution_count": null,
   "id": "d887c46a",
   "metadata": {},
   "outputs": [],
   "source": []
  },
  {
   "cell_type": "markdown",
   "id": "89f8c899",
   "metadata": {},
   "source": [
    "## process"
   ]
  },
  {
   "cell_type": "code",
   "execution_count": null,
   "id": "ee60983c-c8ad-4b5b-80b7-b14571d47b5f",
   "metadata": {
    "scrolled": false
   },
   "outputs": [],
   "source": [
    "%%time\n",
    "gtc_path = os.path.basename(product_folder) + \".GTC.tif\"\n",
    "\n",
    "apps.backward_geocode_sentinel1(\n",
    "    product_folder,\n",
    "    measurement_group,\n",
    "    dem_urlpath,\n",
    "    interp_method=\"nearest\",\n",
    "    override_product_files=\"{dirname}/{prefix}{swath}-{polarization}{ext}\",\n",
    "    chunks={\"slant_range_time\": 2048},\n",
    "    output_urlpath=gtc_path,\n",
    ")"
   ]
  },
  {
   "cell_type": "code",
   "execution_count": null,
   "id": "c8a5880c-3705-45fc-8e22-a6a016dfe037",
   "metadata": {},
   "outputs": [],
   "source": [
    "gtc = xr.open_dataarray(gtc_path).drop(\"band\")\n",
    "gtc"
   ]
  },
  {
   "cell_type": "code",
   "execution_count": null,
   "id": "b3b4f668-0f3e-445a-80f8-ebcc309b97f3",
   "metadata": {
    "scrolled": false
   },
   "outputs": [],
   "source": [
    "gtc.plot(vmax=0.5)"
   ]
  },
  {
   "cell_type": "code",
   "execution_count": null,
   "id": "67aff680",
   "metadata": {
    "scrolled": true
   },
   "outputs": [],
   "source": [
    "%%time\n",
    "rtc_cosine_path = os.path.basename(product_folder) + \".RTC.cosine.tif\"\n",
    "\n",
    "apps.backward_geocode_sentinel1(\n",
    "    product_folder,\n",
    "    measurement_group,\n",
    "    dem_urlpath,\n",
    "    interp_method=\"nearest\",\n",
    "    override_product_files=\"{dirname}/{prefix}{swath}-{polarization}{ext}\",\n",
    "    chunks={\"slant_range_time\": 2048},\n",
    "    correct_radiometry=\"cosine\",\n",
    "    output_urlpath=rtc_cosine_path,\n",
    ")"
   ]
  },
  {
   "cell_type": "code",
   "execution_count": null,
   "id": "46b75f5a",
   "metadata": {
    "scrolled": false
   },
   "outputs": [],
   "source": [
    "rtc_cosine = xr.open_dataarray(rtc_cosine_path).drop(\"band\")\n",
    "rtc_cosine"
   ]
  },
  {
   "cell_type": "code",
   "execution_count": null,
   "id": "4ebca5a6",
   "metadata": {},
   "outputs": [],
   "source": [
    "rtc_cosine.plot(vmax=0.2)"
   ]
  },
  {
   "cell_type": "code",
   "execution_count": null,
   "id": "a0639482",
   "metadata": {},
   "outputs": [],
   "source": []
  },
  {
   "cell_type": "code",
   "execution_count": null,
   "id": "ff952df0",
   "metadata": {},
   "outputs": [],
   "source": [
    "%%time\n",
    "rtc_gamma_path = os.path.basename(product_folder) + \".RTC.gamma.tif\"\n",
    "\n",
    "apps.backward_geocode_sentinel1(\n",
    "    product_folder,\n",
    "    measurement_group,\n",
    "    dem_urlpath,\n",
    "    interp_method=\"nearest\",\n",
    "    override_product_files=\"{dirname}/{prefix}{swath}-{polarization}{ext}\",\n",
    "    chunks={\"slant_range_time\": 2048},\n",
    "    correct_radiometry=\"gamma\",\n",
    "    output_urlpath=rtc_gamma_path,\n",
    ")"
   ]
  },
  {
   "cell_type": "code",
   "execution_count": null,
   "id": "ce495b6c",
   "metadata": {},
   "outputs": [],
   "source": [
    "rtc_gamma = xr.open_dataarray(rtc_gamma_path).drop(\"band\")\n",
    "rtc_gamma"
   ]
  },
  {
   "cell_type": "code",
   "execution_count": null,
   "id": "1ff461eb",
   "metadata": {},
   "outputs": [],
   "source": [
    "rtc_gamma.plot(vmax=0.5)"
   ]
  },
  {
   "cell_type": "code",
   "execution_count": null,
   "id": "48ae0057",
   "metadata": {},
   "outputs": [],
   "source": []
  }
 ],
 "metadata": {
  "kernelspec": {
   "display_name": "Python 3",
   "language": "python",
   "name": "python3"
  },
  "language_info": {
   "codemirror_mode": {
    "name": "ipython",
    "version": 3
   },
   "file_extension": ".py",
   "mimetype": "text/x-python",
   "name": "python",
   "nbconvert_exporter": "python",
   "pygments_lexer": "ipython3",
   "version": "3.9.10"
  }
 },
 "nbformat": 4,
 "nbformat_minor": 5
}
