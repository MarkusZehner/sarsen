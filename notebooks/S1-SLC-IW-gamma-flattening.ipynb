{
 "cells": [
  {
   "cell_type": "code",
   "execution_count": null,
   "id": "7dfaec41",
   "metadata": {},
   "outputs": [],
   "source": [
    "%load_ext autoreload\n",
    "%autoreload 2\n",
    "\n",
    "%matplotlib inline\n",
    "%config InlineBackend.figure_format = 'retina'\n",
    "\n",
    "import matplotlib.pyplot as plt\n",
    "\n",
    "plt.rcParams[\"figure.figsize\"] = (12, 8)\n",
    "plt.rcParams[\"font.size\"] = 12"
   ]
  },
  {
   "cell_type": "code",
   "execution_count": null,
   "id": "c5812733",
   "metadata": {},
   "outputs": [],
   "source": [
    "import numpy as np\n",
    "import rioxarray\n",
    "import xarray as xr\n",
    "import xarray_sentinel\n",
    "\n",
    "from sarsen import apps, geocoding, orbit, scene"
   ]
  },
  {
   "cell_type": "code",
   "execution_count": null,
   "id": "09438927",
   "metadata": {},
   "outputs": [],
   "source": [
    "# product definition \n",
    "product_path = (\n",
    "    \"data/S1A_IW_SLC__1SDV_20211223T170557_20211223T170624_041139_04E360_B8E2.SAFE\"\n",
    ")\n",
    "dem_urlpath = \"data/Gran-Sasso-3m-DEM-small.tif\"\n",
    "measurement_group = \"IW3/VV\""
   ]
  },
  {
   "cell_type": "code",
   "execution_count": null,
   "id": "888eaf0b",
   "metadata": {
    "scrolled": false
   },
   "outputs": [],
   "source": [
    "apps.backward_geocode_sentinel1(product_path, measurement_group, dem_urlpath, correct_radiometry=False)\n",
    "geocoded_beta0 = rioxarray.open_rasterio(\"GRD.tif\")\n",
    "geocoded_beta0.plot(vmax=5, vmin=0)"
   ]
  },
  {
   "cell_type": "code",
   "execution_count": null,
   "id": "74211cf9",
   "metadata": {},
   "outputs": [],
   "source": [
    "apps.backward_geocode_sentinel1(product_path, measurement_group, dem_urlpath, correct_radiometry=True, output_urlpath=\"GRDC.tif\")\n",
    "geocoded_beta0_c = rioxarray.open_rasterio(\"GRDC.tif\")\n",
    "geocoded_beta0_c.plot(vmax=5, vmin=0)"
   ]
  },
  {
   "cell_type": "markdown",
   "id": "02db2010",
   "metadata": {},
   "source": [
    "## CHECK INTERNAL FUNCTIONS"
   ]
  },
  {
   "cell_type": "markdown",
   "id": "6fa3ee18",
   "metadata": {},
   "source": [
    "### READ ORBIT AND INTERPOLATE"
   ]
  },
  {
   "cell_type": "code",
   "execution_count": null,
   "id": "f4c1862c",
   "metadata": {},
   "outputs": [],
   "source": [
    "orbit_ecef = xr.open_dataset(\n",
    "    product_path, engine=\"sentinel-1\", group=f\"{measurement_group}/orbit\"\n",
    ")\n",
    "orbit_interpolator = orbit.OrbitPolyfitIterpolator.from_position(orbit_ecef.position)\n",
    "azimuth_time = orbit_interpolator.azimuth_time_range()\n",
    "\n",
    "position_sar = orbit_interpolator.position(azimuth_time)\n",
    "velocity_sar = orbit_interpolator.velocity(azimuth_time)\n",
    "\n",
    "direction_sar = velocity_sar / np.linalg.norm(velocity_sar)"
   ]
  },
  {
   "cell_type": "code",
   "execution_count": null,
   "id": "c4858def",
   "metadata": {
    "scrolled": false
   },
   "outputs": [],
   "source": [
    "dem = scene.open_dem_raster(dem_urlpath)"
   ]
  },
  {
   "cell_type": "code",
   "execution_count": null,
   "id": "a5624a08",
   "metadata": {},
   "outputs": [],
   "source": [
    "try:\n",
    "    dem_ecef = scene.convert_to_dem_ecef(dem)\n",
    "except:\n",
    "    # first time we run it we get a GDAL exception :shrug:\n",
    "    dem_ecef = scene.convert_to_dem_ecef(dem)"
   ]
  },
  {
   "cell_type": "markdown",
   "id": "9d84f55e",
   "metadata": {},
   "source": [
    "### BACKWARD GEOCODING DEM and DEM_CENTERS"
   ]
  },
  {
   "cell_type": "code",
   "execution_count": null,
   "id": "a8bf0b79",
   "metadata": {},
   "outputs": [],
   "source": [
    "dem_coords = geocoding.backward_geocode(dem_ecef, position_sar, direction_sar)"
   ]
  },
  {
   "cell_type": "markdown",
   "id": "a831aa2e",
   "metadata": {},
   "source": [
    "### COMPUTE GAMMA WEIGHTS"
   ]
  },
  {
   "cell_type": "code",
   "execution_count": null,
   "id": "6550fee5",
   "metadata": {},
   "outputs": [],
   "source": [
    "measurement = xr.open_dataarray(product_path, group=measurement_group, engine=\"sentinel-1\")"
   ]
  },
  {
   "cell_type": "code",
   "execution_count": null,
   "id": "9f47223d",
   "metadata": {},
   "outputs": [],
   "source": [
    "azimuth_time0 = measurement.azimuth_time[0] \n",
    "slant_range_time0 = measurement.slant_range_time[0]"
   ]
  },
  {
   "cell_type": "code",
   "execution_count": null,
   "id": "5d6b7bdb",
   "metadata": {
    "scrolled": false
   },
   "outputs": [],
   "source": [
    "%%time\n",
    "weights = geocoding.gamma_weights(\n",
    "    dem_ecef, \n",
    "    dem_coords,\n",
    "    slant_range_time0=slant_range_time0.data,\n",
    "    azimuth_time0=azimuth_time0.data,\n",
    "    slant_range_time_interval=measurement.attrs[\"slant_range_time_interval\"],\n",
    "    azimuth_time_interval=measurement.attrs[\"azimuth_time_interval\"],\n",
    "    pixel_spacing_azimuth=measurement.attrs[\"sar:pixel_spacing_azimuth\"],\n",
    "    pixel_spacing_range=measurement.attrs[\"sar:pixel_spacing_range\"],\n",
    ")"
   ]
  },
  {
   "cell_type": "code",
   "execution_count": null,
   "id": "08abe1fd",
   "metadata": {},
   "outputs": [],
   "source": [
    "f, axes = plt.subplots(nrows=1, ncols=3, figsize=(30, 15))\n",
    "\n",
    "_ = geocoded_beta0.plot(ax=axes[0], vmax=5)\n",
    "axes[0].grid(c=\"black\")\n",
    "\n",
    "_ = (geocoded_beta0 / weights).plot(ax=axes[1], vmax=5)\n",
    "axes[1].grid(c=\"black\")\n",
    "\n",
    "_ = weights.transpose(\"y\", \"x\").plot(ax=axes[2], vmax=5)\n",
    "axes[2].grid(c=\"black\")"
   ]
  }
 ],
 "metadata": {
  "kernelspec": {
   "display_name": "Python 3 (ipykernel)",
   "language": "python",
   "name": "python3"
  },
  "language_info": {
   "codemirror_mode": {
    "name": "ipython",
    "version": 3
   },
   "file_extension": ".py",
   "mimetype": "text/x-python",
   "name": "python",
   "nbconvert_exporter": "python",
   "pygments_lexer": "ipython3",
   "version": "3.10.2"
  }
 },
 "nbformat": 4,
 "nbformat_minor": 5
}
