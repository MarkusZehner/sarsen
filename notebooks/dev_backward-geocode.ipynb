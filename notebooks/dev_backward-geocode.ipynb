{
 "cells": [
  {
   "cell_type": "code",
   "execution_count": null,
   "id": "94b6ba8a",
   "metadata": {},
   "outputs": [],
   "source": [
    "%load_ext autoreload\n",
    "%autoreload 2\n",
    "\n",
    "%matplotlib inline"
   ]
  },
  {
   "cell_type": "code",
   "execution_count": null,
   "id": "4aac3545",
   "metadata": {},
   "outputs": [],
   "source": [
    "import inspect\n",
    "\n",
    "from sarsen import apps\n",
    "\n",
    "# uncomment to check that the code below is in sync with the implementation\n",
    "# print(inspect.getsource(apps.backward_geocode_sentinel1_slc_iw_burst))"
   ]
  },
  {
   "cell_type": "code",
   "execution_count": null,
   "id": "eb654571",
   "metadata": {},
   "outputs": [],
   "source": [
    "product_urlpath = \"data/S1B_IW_SLC__1SDV_20211223T051121_20211223T051148_030148_039993_BA4B.SAFE\"\n",
    "measurement_group = \"IW3/VV/4\"\n",
    "dem_urlpath = \"data/Rome-30m-DEM.tif\"\n",
    "output_urlpath = \"GRD.tif\"\n",
    "\n",
    "swath_polarization_id, _, burst_index = measurement_group.rpartition(\"/\")\n",
    "orbit_group = f\"{swath_polarization_id}/orbit\"\n",
    "\n",
    "orbit_group"
   ]
  },
  {
   "cell_type": "code",
   "execution_count": null,
   "id": "702a30cd",
   "metadata": {
    "scrolled": false
   },
   "outputs": [],
   "source": [
    "import xarray as xr\n",
    "\n",
    "burst_sar = xr.open_dataset(product_urlpath, engine=\"sentinel-1\", group=measurement_group)  # type: ignore\n",
    "burst_sar"
   ]
  },
  {
   "cell_type": "code",
   "execution_count": null,
   "id": "682ccd88",
   "metadata": {},
   "outputs": [],
   "source": [
    "_ = abs(burst_sar.measurement).plot(vmax=350, figsize=(15, 4))"
   ]
  },
  {
   "cell_type": "code",
   "execution_count": null,
   "id": "377a1d67",
   "metadata": {},
   "outputs": [],
   "source": [
    "orbit_ecef = xr.open_dataset(product_urlpath, engine=\"sentinel-1\", group=orbit_group)  # type: ignore\n",
    "orbit_ecef"
   ]
  },
  {
   "cell_type": "code",
   "execution_count": null,
   "id": "2f205ae0-1780-457b-82f6-29dd9e78fdc1",
   "metadata": {},
   "outputs": [],
   "source": [
    "from sarsen import scene\n",
    "\n",
    "dem_raster = scene.open_dem_raster(dem_urlpath)\n",
    "dem_raster"
   ]
  },
  {
   "cell_type": "code",
   "execution_count": null,
   "id": "422d0cb8",
   "metadata": {},
   "outputs": [],
   "source": [
    "_ = dem_raster.plot(figsize=(12, 8))"
   ]
  },
  {
   "cell_type": "code",
   "execution_count": null,
   "id": "ae792f7b",
   "metadata": {},
   "outputs": [],
   "source": [
    "from sarsen import orbit\n",
    "\n",
    "dem_3d = scene.make_dem_3d(dem_raster)\n",
    "dem_ecef = scene.transform_dem_3d(dem_3d)\n",
    "\n",
    "orbit_interpolator = orbit.OrbitPolyfitIterpolator.from_position(\n",
    "    orbit_ecef.position\n",
    ")\n",
    "position_sar = orbit_interpolator.position(burst_sar.azimuth_time)\n",
    "velocity_sar = orbit_interpolator.velocity(burst_sar.azimuth_time)\n",
    "\n",
    "position_sar"
   ]
  },
  {
   "cell_type": "code",
   "execution_count": null,
   "id": "b0a60e11",
   "metadata": {},
   "outputs": [],
   "source": [
    "from sarsen import geocoding\n",
    "\n",
    "dem_coords = geocoding.backward_geocode(\n",
    "    dem_ecef, position_sar.azimuth_time, position_sar, velocity_sar\n",
    ")\n",
    "dem_coords"
   ]
  },
  {
   "cell_type": "code",
   "execution_count": null,
   "id": "e31d045c",
   "metadata": {},
   "outputs": [],
   "source": [
    "geocoded = abs(burst_sar).sel(\n",
    "    azimuth_time=dem_coords.azimuth_time,\n",
    "    slant_range_time=dem_coords.slant_range_time,\n",
    "    method=\"nearest\",\n",
    ")\n",
    "geocoded.rio.set_crs(dem_raster.rio.crs)\n",
    "geocoded"
   ]
  },
  {
   "cell_type": "code",
   "execution_count": null,
   "id": "8a7d39b9",
   "metadata": {},
   "outputs": [],
   "source": [
    "_ = geocoded.measurement.plot(vmax=350, figsize=(12, 8))"
   ]
  },
  {
   "cell_type": "code",
   "execution_count": null,
   "id": "557c0e67",
   "metadata": {},
   "outputs": [],
   "source": [
    "geocoded.rio.to_raster(\n",
    "    output_urlpath,\n",
    "    tiled=True,\n",
    "    blockxsize=512,\n",
    "    blockysize=512,\n",
    "    compress=\"DEFLATE\",\n",
    "    num_threads=\"ALL_CPUS\",\n",
    ")"
   ]
  },
  {
   "cell_type": "code",
   "execution_count": null,
   "id": "c8a371c0",
   "metadata": {},
   "outputs": [],
   "source": []
  }
 ],
 "metadata": {
  "kernelspec": {
   "display_name": "Python 3 (ipykernel)",
   "language": "python",
   "name": "python3"
  },
  "language_info": {
   "codemirror_mode": {
    "name": "ipython",
    "version": 3
   },
   "file_extension": ".py",
   "mimetype": "text/x-python",
   "name": "python",
   "nbconvert_exporter": "python",
   "pygments_lexer": "ipython3",
   "version": "3.9.9"
  }
 },
 "nbformat": 4,
 "nbformat_minor": 5
}
