{
 "cells": [
  {
   "cell_type": "code",
   "execution_count": null,
   "id": "94b6ba8a",
   "metadata": {},
   "outputs": [],
   "source": [
    "%load_ext autoreload\n",
    "%autoreload 2\n",
    "\n",
    "%matplotlib inline\n",
    "%config InlineBackend.figure_format = 'retina'\n",
    "\n",
    "import matplotlib.pyplot as plt\n",
    "\n",
    "plt.rcParams[\"figure.figsize\"] = (12, 8)\n",
    "plt.rcParams[\"font.size\"] = 12"
   ]
  },
  {
   "cell_type": "code",
   "execution_count": null,
   "id": "4aac3545",
   "metadata": {},
   "outputs": [],
   "source": [
    "import inspect\n",
    "\n",
    "import numpy as np\n",
    "import xarray as xr\n",
    "import xarray_sentinel\n",
    "\n",
    "from sarsen import apps, geocoding, orbit, scene\n",
    "\n",
    "# uncomment to check that the code below is in sync with the implementation\n",
    "# print(inspect.getsource(apps.backward_geocode_sentinel1_slc_iw_burst))"
   ]
  },
  {
   "cell_type": "code",
   "execution_count": null,
   "id": "eb654571",
   "metadata": {},
   "outputs": [],
   "source": [
    "product_path = (\n",
    "    \"data/S1B_S6_SLC__1SDV_20211216T115438_20211216T115501_030050_03968A_4DCB.SAFE\"\n",
    ")\n",
    "dem_urlpath = \"data/Chicago-4m-DEM.tif\"\n",
    "output_urlpath = \"Chicago-4m-SLC.tif\"\n",
    "swath_group = \"S6\"\n",
    "swath_polarisation_group = \"S6/VV\"\n",
    "measurement_group = \"S6/VV\"\n",
    "measurement_block_slices = (slice(12500, 16000), slice(None, 4096))\n",
    "digital_number_max = 75\n",
    "\n",
    "!ls -d {product_path}"
   ]
  },
  {
   "cell_type": "code",
   "execution_count": null,
   "id": "702a30cd",
   "metadata": {
    "scrolled": false
   },
   "outputs": [],
   "source": [
    "measurement = xr.open_dataset(\n",
    "    product_path, engine=\"sentinel-1\", group=measurement_group\n",
    ")\n",
    "measurement"
   ]
  },
  {
   "cell_type": "code",
   "execution_count": null,
   "id": "585bfdf0",
   "metadata": {},
   "outputs": [],
   "source": [
    "measurement_block = measurement.measurement[measurement_block_slices]\n",
    "measurement_block"
   ]
  },
  {
   "cell_type": "code",
   "execution_count": null,
   "id": "682ccd88",
   "metadata": {},
   "outputs": [],
   "source": [
    "_ = abs(measurement_block).plot(y=\"azimuth_time\", vmax=digital_number_max)"
   ]
  },
  {
   "cell_type": "code",
   "execution_count": null,
   "id": "377a1d67",
   "metadata": {},
   "outputs": [],
   "source": [
    "orbit_ecef = xr.open_dataset(\n",
    "    product_path, engine=\"sentinel-1\", group=f\"{swath_polarisation_group}/orbit\"\n",
    ")\n",
    "orbit_ecef"
   ]
  },
  {
   "cell_type": "code",
   "execution_count": null,
   "id": "2f205ae0-1780-457b-82f6-29dd9e78fdc1",
   "metadata": {},
   "outputs": [],
   "source": [
    "dem_raster = scene.open_dem_raster(dem_urlpath)\n",
    "print(dem_raster.rio.estimate_utm_crs())\n",
    "dem_raster"
   ]
  },
  {
   "cell_type": "code",
   "execution_count": null,
   "id": "422d0cb8",
   "metadata": {},
   "outputs": [],
   "source": [
    "_ = dem_raster.plot(figsize=(12, 8))"
   ]
  },
  {
   "cell_type": "code",
   "execution_count": null,
   "id": "62e1594f",
   "metadata": {},
   "outputs": [],
   "source": [
    "try:\n",
    "    dem_ecef = scene.convert_to_dem_ecef(dem_raster)\n",
    "except:\n",
    "    # first time we run it we get a GDAL exception :shrug:\n",
    "    dem_ecef = scene.convert_to_dem_ecef(dem_raster)\n",
    "dem_ecef"
   ]
  },
  {
   "cell_type": "code",
   "execution_count": null,
   "id": "01628f84",
   "metadata": {},
   "outputs": [],
   "source": [
    "orbit_interpolator = orbit.OrbitPolyfitIterpolator.from_position(orbit_ecef.position)\n",
    "orbit_interpolator.interval"
   ]
  },
  {
   "cell_type": "code",
   "execution_count": null,
   "id": "930011b6",
   "metadata": {},
   "outputs": [],
   "source": [
    "azimuth_time = orbit_interpolator.azimuth_time_range()\n",
    "azimuth_time"
   ]
  },
  {
   "cell_type": "code",
   "execution_count": null,
   "id": "ae792f7b",
   "metadata": {},
   "outputs": [],
   "source": [
    "position_sar = orbit_interpolator.position(azimuth_time)\n",
    "velocity_sar = orbit_interpolator.velocity(azimuth_time)\n",
    "\n",
    "direction_sar = velocity_sar / np.linalg.norm(velocity_sar)\n",
    "\n",
    "position_sar"
   ]
  },
  {
   "cell_type": "code",
   "execution_count": null,
   "id": "b0a60e11",
   "metadata": {},
   "outputs": [],
   "source": [
    "dem_coords = geocoding.backward_geocode(dem_ecef, position_sar, direction_sar)\n",
    "dem_coords"
   ]
  },
  {
   "cell_type": "code",
   "execution_count": null,
   "id": "e31d045c",
   "metadata": {},
   "outputs": [],
   "source": [
    "geocoded = abs(measurement.measurement).interp(\n",
    "    azimuth_time=dem_coords.azimuth_time,\n",
    "    slant_range_time=dem_coords.slant_range_time,\n",
    "    method=\"nearest\",\n",
    ")\n",
    "geocoded.rio.set_crs(dem_raster.rio.crs)\n",
    "geocoded"
   ]
  },
  {
   "cell_type": "code",
   "execution_count": null,
   "id": "8a7d39b9",
   "metadata": {},
   "outputs": [],
   "source": [
    "_ = geocoded.plot(vmax=digital_number_max, figsize=(12, 8))"
   ]
  },
  {
   "cell_type": "code",
   "execution_count": null,
   "id": "557c0e67",
   "metadata": {},
   "outputs": [],
   "source": [
    "geocoded.rio.to_raster(\n",
    "    output_urlpath,\n",
    "    tiled=True,\n",
    "    blockxsize=512,\n",
    "    blockysize=512,\n",
    "    compress=\"DEFLATE\",\n",
    "    num_threads=\"ALL_CPUS\",\n",
    ")"
   ]
  },
  {
   "cell_type": "code",
   "execution_count": null,
   "id": "d478b5f3",
   "metadata": {},
   "outputs": [],
   "source": []
  }
 ],
 "metadata": {
  "kernelspec": {
   "display_name": "Python 3 (ipykernel)",
   "language": "python",
   "name": "python3"
  },
  "language_info": {
   "codemirror_mode": {
    "name": "ipython",
    "version": 3
   },
   "file_extension": ".py",
   "mimetype": "text/x-python",
   "name": "python",
   "nbconvert_exporter": "python",
   "pygments_lexer": "ipython3",
   "version": "3.9.10"
  }
 },
 "nbformat": 4,
 "nbformat_minor": 5
}
